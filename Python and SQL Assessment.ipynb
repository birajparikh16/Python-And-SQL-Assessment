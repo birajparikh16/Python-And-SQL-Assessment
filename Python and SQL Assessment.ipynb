{
 "cells": [
  {
   "cell_type": "markdown",
   "metadata": {},
   "source": [
    "## SQL"
   ]
  },
  {
   "cell_type": "markdown",
   "metadata": {},
   "source": [
    "SQL Schema\n",
    "\n",
    "Given a table: ORDERS with following columns\n",
    "- CUSTOMER_ID\n",
    "- DAY_OF_ORDER\n",
    "- PRODUCT\n",
    "- PRICE"
   ]
  },
  {
   "cell_type": "markdown",
   "metadata": {},
   "source": [
    "### Q1. Write SQL query to find customers who have bought BOTH products 'iPhone 5s' AND also 'Samsung Note'."
   ]
  },
  {
   "cell_type": "markdown",
   "metadata": {},
   "source": [
    "SELECT \n",
    "    CUSTOMER_ID\n",
    "FROM \n",
    "    ORDERS\n",
    "WHERE PRODUCT = 'iPhone 5s' AND PRODUCT = 'Samsung Note'"
   ]
  },
  {
   "cell_type": "markdown",
   "metadata": {},
   "source": [
    "### Q2. For all customers who have at least two orders, what is the average number of days elapsed between 1st and 2nd order (do not worry about using exact date functions)"
   ]
  },
  {
   "cell_type": "code",
   "execution_count": null,
   "metadata": {},
   "outputs": [],
   "source": [
    "-- We can use \"LAG\" Analytic function here to get the previous order day\n",
    "\n",
    "WITH eplased_days AS (\n",
    "    SELECT\n",
    "        CUSTOMER_ID,\n",
    "        DAY_OF_ORDER,\n",
    "        LAG(DAY_OF_ORDER) OVER (PARTITION BY CUSTOMER_ID ORDER BY DAY_OF_ORDER) as PriorDate\n",
    "    FROM \n",
    "        ORDERS\n",
    ")\n",
    "\n",
    "SELECT \n",
    "    CUSTOMER_ID, \n",
    "    AVG(OrderDate - PriorDate) AS avg_elapsed_days\n",
    "FROM eplased_days\n",
    "GROUP BY CUSTOMER_ID\n",
    "HAVING COUNT(PRODUCT) >= 2;  -- Considering only customers who have atleast 2 or more products."
   ]
  },
  {
   "cell_type": "markdown",
   "metadata": {},
   "source": [
    "## Python"
   ]
  },
  {
   "cell_type": "markdown",
   "metadata": {},
   "source": [
    "### Q1: Implement to_bin(n) function -\n",
    "  - Given a number as input write a function that returns a string with binary representation of a positive integer number\n",
    "  - We would like you to write the algorithm to generate this binary representation in string format without library functions\n"
   ]
  },
  {
   "cell_type": "code",
   "execution_count": 34,
   "metadata": {},
   "outputs": [],
   "source": [
    "'''\n",
    "Example: 242\n",
    "\n",
    "242 // 2 = 121   remainder: 0\n",
    "121 // 2 = 60    remainder: 1\n",
    "60 // 2  = 30    remainder: 0\n",
    "30 // 2  = 15    remainder: 0\n",
    "15 // 2  = 7     remainder: 1\n",
    "7 // 2   = 3     remainder: 1\n",
    "3 // 2   = 1     remainder: 1\n",
    "1 // 2   = 0     remainder: 1\n",
    "\n",
    "int('11110010', 2) --> here 2 is the base\n",
    "Output: 242\n",
    "'''\n",
    "\n",
    "def to_bin(m):\n",
    "    a=[]\n",
    "    n=int(m)\n",
    "    while n!=0:\n",
    "        # We keep on adding the remainder to the list\n",
    "        a.append(n%2)\n",
    "        n=n//2\n",
    "    # Reversing the number\n",
    "    a.reverse()\n",
    "    return \"\".join(map(str, a)) # Concatenating the numbers in string"
   ]
  },
  {
   "cell_type": "code",
   "execution_count": 35,
   "metadata": {},
   "outputs": [
    {
     "data": {
      "text/plain": [
       "'1010'"
      ]
     },
     "execution_count": 35,
     "metadata": {},
     "output_type": "execute_result"
    }
   ],
   "source": [
    "to_bin(10)"
   ]
  },
  {
   "cell_type": "code",
   "execution_count": 27,
   "metadata": {},
   "outputs": [],
   "source": [
    "assert to_bin(2) == '10'"
   ]
  },
  {
   "cell_type": "code",
   "execution_count": 28,
   "metadata": {},
   "outputs": [],
   "source": [
    "assert to_bin(7) == '111'"
   ]
  },
  {
   "cell_type": "code",
   "execution_count": 29,
   "metadata": {},
   "outputs": [],
   "source": [
    "assert to_bin(45) == '101101'"
   ]
  },
  {
   "cell_type": "code",
   "execution_count": 30,
   "metadata": {},
   "outputs": [],
   "source": [
    "assert to_bin(32) == '100000'"
   ]
  },
  {
   "cell_type": "code",
   "execution_count": 31,
   "metadata": {},
   "outputs": [
    {
     "ename": "AssertionError",
     "evalue": "",
     "output_type": "error",
     "traceback": [
      "\u001b[1;31m---------------------------------------------------------------------------\u001b[0m",
      "\u001b[1;31mAssertionError\u001b[0m                            Traceback (most recent call last)",
      "\u001b[1;32m<ipython-input-31-38b3d8cffe28>\u001b[0m in \u001b[0;36m<module>\u001b[1;34m\u001b[0m\n\u001b[1;32m----> 1\u001b[1;33m \u001b[1;32massert\u001b[0m \u001b[0mto_bin\u001b[0m\u001b[1;33m(\u001b[0m\u001b[1;36m0\u001b[0m\u001b[1;33m)\u001b[0m \u001b[1;33m==\u001b[0m \u001b[1;34m'0'\u001b[0m\u001b[1;33m\u001b[0m\u001b[1;33m\u001b[0m\u001b[0m\n\u001b[0m",
      "\u001b[1;31mAssertionError\u001b[0m: "
     ]
    }
   ],
   "source": [
    "assert to_bin(0) == '0'"
   ]
  },
  {
   "cell_type": "markdown",
   "metadata": {},
   "source": [
    "### Q2: Implement a function to extract out all string literals from a SQL string return them in a sorted list"
   ]
  },
  {
   "cell_type": "code",
   "execution_count": 56,
   "metadata": {},
   "outputs": [],
   "source": [
    "import re\n",
    "\n",
    "def extract_string_literals(str):\n",
    "    '''\n",
    "    - A period symbol . matches any single character (except newline '\\n')\n",
    "    - The star symbol * matches zero or more occurrences of the pattern left to it.\n",
    "    - The question mark symbol ? matches zero or one occurrence of the pattern left to it.\n",
    "    - Parentheses () is used to group sub-patterns.\n",
    "    '''\n",
    "    return sorted(re.findall(r\"'(.*?)'\", str)) # Sorted: O(N log N)\n"
   ]
  },
  {
   "cell_type": "code",
   "execution_count": 57,
   "metadata": {},
   "outputs": [
    {
     "data": {
      "text/plain": [
       "['Iphone 5s', 'OEHKJHFUI']"
      ]
     },
     "execution_count": 57,
     "metadata": {},
     "output_type": "execute_result"
    }
   ],
   "source": [
    "extract_string_literals(\"select * from order where orderid = 'OEHKJHFUI' and product = 'Iphone 5s'\")"
   ]
  },
  {
   "cell_type": "code",
   "execution_count": 59,
   "metadata": {},
   "outputs": [],
   "source": [
    "# Sample test cases to verify functionality\n",
    "assert extract_string_literals(\"select * from order where orderid = 'OEHKJHFUI' and product = 'Iphone 5s'\") == ['Iphone 5s', 'OEHKJHFUI']\n",
    "assert extract_string_literals(\"select * from inventory\") == []\n",
    "assert extract_string_literals(\"select * from order where orderid in ('o1','o2','o1')\") == ['o1', 'o1', 'o2'] \n"
   ]
  },
  {
   "cell_type": "code",
   "execution_count": null,
   "metadata": {},
   "outputs": [],
   "source": []
  }
 ],
 "metadata": {
  "kernelspec": {
   "display_name": "Python 3",
   "language": "python",
   "name": "python3"
  },
  "language_info": {
   "codemirror_mode": {
    "name": "ipython",
    "version": 3
   },
   "file_extension": ".py",
   "mimetype": "text/x-python",
   "name": "python",
   "nbconvert_exporter": "python",
   "pygments_lexer": "ipython3",
   "version": "3.7.4"
  }
 },
 "nbformat": 4,
 "nbformat_minor": 4
}
